{
 "cells": [
  {
   "cell_type": "markdown",
   "id": "8f942e50",
   "metadata": {},
   "source": [
    "# 🧠 ISJ - Scripting Languages\n",
    "---\n",
    "## ⚠️ Warning\n",
    "*I DO NOT guarantee the accuracy of the content.*\n",
    "\n",
    "---\n",
    "## 📌 Table of Contents  \n",
    "- [🧠 ISJ - Scripting Languages](#-isj---scripting-languages)  \n",
    "  - [⚠️ Warning](#️warning)  \n",
    "  - [📌 Table of Contents](#-table-of-contents)  \n",
    "  - [Question 1](#question-1)  \n",
    "  - [Question 2](#question-2)  \n",
    "  - [Question 3](#question-3) \n",
    "  - [Question 4](#question-4) \n",
    "  - [Question 5](#question-5) \n",
    "  - [Question 6](#question-6) \n",
    "  - [Question 7](#question-7)\n",
    "  - [Question 8](#question-8)\n",
    "  - [Question 9](#question-9)\n",
    "  - [Question 10](#question-10)\n",
    "  - [Question 11](#question-11)\n",
    "  - [Question 12](#question-12)\n",
    "  - [Question 13](#question-13)\n",
    "  - [Question 14](#question-14)\n",
    "  - [Question 15](#question-15)\n",
    "  - [Question 16](#question-16)\n",
    "  - [Question 17](#question-17)\n",
    "  - [Question 18](#question-18)\n",
    "\n",
    "\n"
   ]
  },
  {
   "cell_type": "markdown",
   "id": "0f9189ce",
   "metadata": {},
   "source": [
    "## Question 1 Regex\n",
    "### ❓ Question \n",
    "*(4 body)*  \n",
    "Doplňte definici regulárního výrazu ve finditer, tak aby výsledek:  \n",
    "\n",
    "```python\n",
    "text = 'abbacccdee'; import re; [m[0] for m in re.finditer(r'...', text)]\n",
    "```\n",
    "byl \n",
    "> ['a', 'bb', 'a', 'ccc', 'd', 'ee']\n"
   ]
  },
  {
   "cell_type": "code",
   "execution_count": null,
   "id": "bbde6f52",
   "metadata": {},
   "outputs": [
    {
     "name": "stdout",
     "output_type": "stream",
     "text": [
      "['a', 'bb', 'a', 'ccc', 'd', 'ee']\n"
     ]
    }
   ],
   "source": [
    "import re\n",
    "text = 'abbacccdee'\n",
    "result = [m[0] for m in re.finditer(r'(a+|b+|c+|d+|e+)', text)]\n",
    "print(result)"
   ]
  },
  {
   "cell_type": "markdown",
   "id": "c3bbfad7",
   "metadata": {},
   "source": [
    "### 🤯 Explanation\n",
    "\n",
    "We match:\n",
    "- `'bb'`, `'ccc'`, `'ee'` as whole units\n",
    "\n",
    "we need only to match that particular string, so we can hardcode.\n",
    "\n",
    "(a+|b+|c+|d+|e+)\n",
    "\n",
    "- () = capturing group\n",
    "- a,b,c,d,e = character we want to match\n",
    "- \\+         = 1 or more repetition\n",
    "- |         = or"
   ]
  },
  {
   "cell_type": "markdown",
   "id": "0dfcf30f",
   "metadata": {},
   "source": [
    "More on [Regex](https://regexr.com)"
   ]
  },
  {
   "cell_type": "markdown",
   "id": "0d8dc31c",
   "metadata": {},
   "source": [
    "## Question 2\n",
    "\n",
    "### ❓ Question\n",
    "Co vypíše následující kód v Pythonu a proč (3 body)\n",
    "```python\n",
    "def e_o (num): return 'eovdedn' [num%2::2] print (e_o(1))\n",
    "```"
   ]
  },
  {
   "cell_type": "code",
   "execution_count": null,
   "id": "b3253db0",
   "metadata": {},
   "outputs": [
    {
     "name": "stdout",
     "output_type": "stream",
     "text": [
      "odd\n"
     ]
    }
   ],
   "source": [
    "def e_o (num): return 'eovdedn' [num%2::2]\n",
    "print (e_o(1))"
   ]
  },
  {
   "cell_type": "markdown",
   "id": "64cf88a7",
   "metadata": {},
   "source": [
    "### 🤯 Explanation\n",
    "\n",
    "Let's first get the slicing stuff\n",
    "sequence[1:5:1]\n",
    "The slice [start:stop:step]\n",
    "\n",
    "| Part    | Default if `step=1`         | Default if `step=-1`        | Meaning                                            |\n",
    "|---------|-----------------------------|------------------------------|----------------------------------------------------|\n",
    "| `start` | `0`                         | `-1` (last index)            | Where slicing starts                               |\n",
    "| `stop`  | `len(sequence)`             | `None` (slice until start)   | Where slicing stops (exclusive!)                  |\n",
    "| `step`  | `1`                         | `-1`                         | Direction & skip interval (1 = forward, -1 = back) |\n",
    "\n",
    "\n",
    "\n",
    "**!Important start is inclusive, stop is not inclusive!**\n",
    "\n",
    "Let's head back to our task\n",
    "\n",
    "1. [num % 2.... -> this gives either 0 (even) or 1 (odd) `start`\n",
    "2. `::` means that stop is ommited and it sets the default `len(sequence)`\n",
    "3. `2` is step\n",
    "4. The slicing is used on `eovdedn`\n",
    "\n",
    "For example in case of 3 we get\n",
    ">[1:len(sequence):2]\n",
    "\n",
    "now the only thing is, we need to calculate the result! YOU CAN DO IT ALONE, I EXPLAINED AS FOR AND IDIOT\n",
    "\n"
   ]
  },
  {
   "cell_type": "markdown",
   "id": "71f739e5",
   "metadata": {},
   "source": [
    "## Question 3\n",
    "### ❓ Question\n",
    "Co vypíše následující kód v Pythonu a proč? (4 bodů)\n",
    "```python\n",
    "sum(x>5 for x in range(10))\n",
    "```"
   ]
  },
  {
   "cell_type": "code",
   "execution_count": null,
   "id": "83c5b54b",
   "metadata": {},
   "outputs": [
    {
     "data": {
      "text/plain": [
       "4"
      ]
     },
     "execution_count": 4,
     "metadata": {},
     "output_type": "execute_result"
    }
   ],
   "source": [
    "sum(x>5 for x in range(10))"
   ]
  },
  {
   "cell_type": "markdown",
   "id": "c362a56d",
   "metadata": {},
   "source": [
    "### 🤯 Explanation\n",
    "\n",
    "Well `sum` is just  \n",
    "\n",
    "`range(10)` is from 0 to 9\n",
    "\n",
    "so we get\n",
    "- 0 - false\n",
    "- 1 - false\n",
    "- 2 - false\n",
    "- 3 - false\n",
    "- 4 - false\n",
    "- 5 - false\n",
    "- 6 - true\n",
    "- 7 - true\n",
    "- 8 - true\n",
    "- 9 - true\n",
    "  \n",
    "In python false is `0`, true is `1`  \n",
    "Just summarize the trues"
   ]
  },
  {
   "cell_type": "markdown",
   "id": "3bfe3626",
   "metadata": {},
   "source": [
    "## Question 4\n",
    "### ❓ Question\n",
    "\n",
    "\n",
    "Co vypíše následující kód v Pythonu a proč? (4 bodů)\n",
    "```python\n",
    "print(sorted ([8,3,2,42,5], key = lambda x: 0 if x == 42 or x%2 else x))\n",
    "```"
   ]
  },
  {
   "cell_type": "code",
   "execution_count": null,
   "id": "5f8bee8c",
   "metadata": {},
   "outputs": [
    {
     "name": "stdout",
     "output_type": "stream",
     "text": [
      "[3, 42, 5, 2, 8]\n"
     ]
    }
   ],
   "source": [
    "print(sorted ([8,3,2,42,5], key = lambda x: 0 if x == 42 or x%2 else x))"
   ]
  },
  {
   "cell_type": "markdown",
   "id": "d7667b68",
   "metadata": {},
   "source": [
    "### 🤯 Explanation\n",
    "\n",
    "Fine, lambdas are just like small, anonymous functions you can assign to a variable.\n"
   ]
  },
  {
   "cell_type": "code",
   "execution_count": null,
   "id": "4bd47177",
   "metadata": {},
   "outputs": [
    {
     "name": "stdout",
     "output_type": "stream",
     "text": [
      "5\n"
     ]
    }
   ],
   "source": [
    "add = lambda x, y: x + y\n",
    "print(add(2, 3))  # Output: 5"
   ]
  },
  {
   "cell_type": "markdown",
   "id": "9f6ddfb4",
   "metadata": {},
   "source": [
    "`sorted()` is just sorting the list  \n",
    "Normally, sorted() sorts stuff in order — numbers, strings, etc.  \n",
    "BUT when you use `key=...`, you tell Python how to sort each item. Like, \"sort by this thing about each item.\""
   ]
  },
  {
   "cell_type": "code",
   "execution_count": 7,
   "id": "2cc06e32",
   "metadata": {},
   "outputs": [
    {
     "name": "stdout",
     "output_type": "stream",
     "text": [
      "['Alice', 'Charlie', 'bob']\n",
      "['Alice', 'bob', 'Charlie']\n"
     ]
    }
   ],
   "source": [
    "names = [\"Alice\", \"bob\", \"Charlie\"]\n",
    "\n",
    "sorted(names)  \n",
    "print(sorted(names)  )\n",
    "# → ['Alice', 'Charlie', 'bob']  ← uppercase before lowercase\n",
    "\n",
    "sorted(names, key=str.lower)  \n",
    "# → ['Alice', 'bob', 'Charlie']\n",
    "print(sorted(names, key=str.lower) )"
   ]
  },
  {
   "cell_type": "markdown",
   "id": "78e1c7d6",
   "metadata": {},
   "source": [
    "So `key=str.lower`  \n",
    "says: \"Hey Python, sort by each name converted to lowercase.\"\n",
    "\n",
    "So back to task\n",
    "Let's take the ternary \n",
    "```python\n",
    "0 if x == 42 or x%2 else x\n",
    "```\n",
    "it will give as `0` in case\n",
    "- x == 42\n",
    "- or x%2 = 1(1 is True (odd), else 0 - False(even))\n",
    "\n",
    "Otherwise `x`\n",
    "\n",
    "We convert list to `0` and `x`\n",
    "```python\n",
    "[8,0,2,0,0]\n",
    "#8 3 2 42 5\n",
    "```\n",
    "sort them \n",
    "```python\n",
    "[0,0,0,2,8]\n",
    "#3 42 5 2 8\n",
    "```\n",
    "and `get them back` \n",
    "> [3,42,5,2,8]"
   ]
  },
  {
   "cell_type": "markdown",
   "id": "4a906c32",
   "metadata": {},
   "source": [
    "## Question 5\n",
    "### ❓ Question\n",
    "\n",
    "Definujte třídu RegexFull Match, podtřídu str, která umožní test na rovnost s regulárním výrazem, např. RegexFullMatch ('hello') 'h. *o' vrátí True (5 body).\n"
   ]
  },
  {
   "cell_type": "code",
   "execution_count": null,
   "id": "a081207e",
   "metadata": {},
   "outputs": [
    {
     "name": "stdout",
     "output_type": "stream",
     "text": [
      "True\n",
      "False\n"
     ]
    }
   ],
   "source": [
    "import re\n",
    "\n",
    "class RegexFullMatch(str):\n",
    "    def __eq__(self, pattern):\n",
    "        return re.fullmatch(pattern, self) is not None\n",
    "print(RegexFullMatch('hello') == 'h.*o')   # → True\n",
    "print(RegexFullMatch('hello') == 'h.*a')   # → False\n"
   ]
  },
  {
   "cell_type": "markdown",
   "id": "5dbf1075",
   "metadata": {},
   "source": []
  },
  {
   "cell_type": "markdown",
   "id": "8bd6e5f3",
   "metadata": {},
   "source": [
    "### 🤯 Explanation\n",
    "\n",
    "We need to make a custom class, RegexFullMatch, that:\n",
    "\n",
    "1. Looks like a string (because it's a subclass of str).\n",
    "\n",
    "2. Can be compared to a regex pattern and check if it fully matches.\n",
    "\n",
    "So we do \n",
    "- Subclass str: This allows RegexFullMatch to act like a string.  \n",
    "  \n",
    "syntax: \n",
    "`Class name(name_of_subclass):`\n",
    "\n",
    "- Override `__eq__()`: This special method makes the comparison work (== operator).\n",
    "\n",
    "- Use `re.fullmatch()`: This function checks if the whole string matches the pattern.\n",
    "\n",
    "\n",
    "BUT! We need to return either `True` or `False`\n",
    "\n",
    "So either we convert the return valeu to `bool`\n",
    "\n",
    "Or we check if `re.fullmatch()` return as something\n",
    "```python\n",
    "is not None\n",
    "```"
   ]
  },
  {
   "cell_type": "markdown",
   "id": "a357891c",
   "metadata": {},
   "source": [
    "## Question 6\n",
    "### ❓ Question\n",
    "\n",
    "Volání \n",
    "```python\n",
    "import re; \n",
    "print(re.sub(r'cat', 'dog', 'A Cat', re.IGNORECASE))\n",
    "```\n",
    "nezafunguje - vypisuje A Cat.  \n",
    "Příkaz help (re.sub) vypíše: \n",
    "```python\n",
    "sub(pattern, repl, string, count=0, flags=0).\n",
    "```\n",
    "Proveďte minimální změnu výše uvedeného volání tak, aby vypisovalo A dog (3 body).  "
   ]
  },
  {
   "cell_type": "code",
   "execution_count": null,
   "id": "1bb3e6b4",
   "metadata": {},
   "outputs": [
    {
     "name": "stdout",
     "output_type": "stream",
     "text": [
      "A dog\n"
     ]
    }
   ],
   "source": [
    "\n",
    "print(re.sub (r'cat', 'dog', 'A Cat', flags=re.IGNORECASE))"
   ]
  },
  {
   "cell_type": "markdown",
   "id": "b5c4aedf",
   "metadata": {},
   "source": [
    "### 🤯 Explanation\n",
    "\n",
    "Well, help message gets prints us\n",
    "`sub(pattern, repl, string, count=0, flags=0).`\n",
    "\n",
    "flags...are not set, just set them\n",
    "\n",
    "instead of  \n",
    "`re.IGNORECASE`  \n",
    "we write  \n",
    "`flags=re.IGNORECASE`\n"
   ]
  },
  {
   "cell_type": "markdown",
   "id": "e33ece5d",
   "metadata": {},
   "source": [
    "## Question 7 (class new explanation)\n",
    "### ❓ Question\n",
    "\n",
    "Definujte třídu AnagramStr, podtřídu str, která bude místo zadaného řetězce vnitřně reprezentovat jeho uspořádané znaky, tedy např. \n",
    "```python\n",
    "AnagramStr('sister') == AnagramStr('sister')\n",
    "```\n",
    "bude `True`  \n",
    "```python\n",
    "print(AnagramStr('sister'))\n",
    "```\n",
    "vypíše: `eirsst` \n",
    "\n"
   ]
  },
  {
   "cell_type": "code",
   "execution_count": null,
   "id": "a38de13b",
   "metadata": {},
   "outputs": [
    {
     "name": "stdout",
     "output_type": "stream",
     "text": [
      "eirsst\n",
      "eirsst\n",
      "True\n"
     ]
    }
   ],
   "source": [
    "class AnagramStr(str):\n",
    "    def __new__(cls, original):\n",
    "        # Sort the characters and return as a new string\n",
    "        sorted_str = ''.join(sorted(original))\n",
    "        return super().__new__(cls, sorted_str)\n",
    "\n",
    "    def __eq__(self, other):\n",
    "        # Make sure we compare sorted strings\n",
    "        return str(self) == str(AnagramStr(other))\n",
    "\n",
    "a = AnagramStr(\"sister\")\n",
    "b = AnagramStr(\"resist\")\n",
    "\n",
    "print(a)         # → eirsst\n",
    "print(b)         # → eirsst\n",
    "print(a == b)    # → True\n"
   ]
  },
  {
   "cell_type": "markdown",
   "id": "635814c5",
   "metadata": {},
   "source": [
    "### 🤯 Explanation\n",
    "Normally in Python, you’d use __init__() to set up stuff in a class.  \n",
    "BUT — `str`, `int`, `tuple`, and other immutable types (stuff that can’t be changed after it's created) are a bit special.\n",
    "\n",
    "Once they’re created... you can’t change them.\n",
    "\n",
    "So, with immutable types:\n",
    "\n",
    "`__init__()` **runs after the object is already made**  \n",
    "...which is too late to change the value of the string.\n",
    "\n",
    "That’s where `__new__()` comes in\n",
    "- `__new__()` is called before the object is created.\n",
    "- It gives us a chance to say:\n",
    "  - “Yo, make this string, but here’s what its value should be.”\n",
    "\n",
    "So in `AnagramStr`, we need to sort the string `before it's even born`, like: \n",
    "```python\n",
    "sorted_str = ''.join(sorted(original))\n",
    "```\n",
    "And then tell Python:\n",
    "```python\n",
    "return super().__new__(cls, sorted_str)\n",
    "```\n",
    "What is cls?  \n",
    "cls is just like self…  \n",
    "...but it’s used in `__new__()` (or class methods) instead of instance methods.\n",
    "\n",
    "| In `__init__()`                         | In `__new__()` or classmethod   |\n",
    "| --------------------------------------- | ------------------------------- |\n",
    "| `self`                                  | `cls`                           |\n",
    "| Refers to: the **object** being created | Refers to: the **class** itself |\n",
    "\n",
    "Why do we need cls in `__new__()`?\n",
    "\n",
    "\n",
    "Because when we do:\n",
    "\n",
    "```python\n",
    "return super().__new__(cls, something)\n",
    "```\n",
    "We’re telling Python:\n",
    "- \"Hey, make a new instance of this class (cls) using this data (something)\"\n",
    "\n",
    "if you're creating a subclass of `str` like `AnagramStr`, you want to make sure you're returning an instance of `AnagramStr`, not just a plain ol' string."
   ]
  },
  {
   "cell_type": "markdown",
   "id": "a64c49d5",
   "metadata": {},
   "source": [
    "## Question 8\n",
    "### ❓ Question\n",
    "(6 bodů)\n",
    "Definujte generátorovou funkci `running_avg`, která dostane jako parametr iterovatelný objekt, první hodnotu bude ignorovat a pro další bude vracet klouzavý průměr (vždy průměr všech předchozích čísel), tedy například:\n",
    "```python\n",
    "list(running_avg (['age', 12, 20,1]))\n",
    "```\n",
    ">[12.0, 16.0, 11.0]. \n"
   ]
  },
  {
   "cell_type": "code",
   "execution_count": null,
   "id": "a62935ff",
   "metadata": {},
   "outputs": [
    {
     "name": "stdout",
     "output_type": "stream",
     "text": [
      "[12.0, 16.0, 11.0]\n"
     ]
    }
   ],
   "source": [
    "def running_avg(obj):\n",
    "    for i in range(1, len(obj)):\n",
    "        yield sum(obj[1:i + 1]) / i\n",
    "print(list(running_avg([\"age\", 12, 20, 1]))) # [12.0, 16.0, 11.0]"
   ]
  },
  {
   "cell_type": "markdown",
   "id": "b67eda6b",
   "metadata": {},
   "source": [
    "### 🤯 Explanation\n",
    "\n",
    "```python\n",
    "list(running_avg(['age', 12, 20, 1]))\n",
    "# → [12.0, 16.0, 11.0]\n",
    "\n",
    "# Why?\n",
    "# Step 1: skip 'age'\n",
    "# Step 2: take 12 → avg = 12.0\n",
    "# Step 3: 12 + 20 = 32 → 32 / 2 = 16.0\n",
    "# Step 4: 12 + 20 + 1 = 33 → 33 / 3 = 11.0\n",
    "```\n"
   ]
  },
  {
   "cell_type": "markdown",
   "id": "c1dca6dc",
   "metadata": {},
   "source": [
    "Weeeell, nothing to explain\n",
    "\n",
    "just don't use `return`, after `return` function ends... So we use `yield`. It kinda `pauses` the func"
   ]
  },
  {
   "cell_type": "markdown",
   "id": "33d64134",
   "metadata": {},
   "source": [
    "### Note by chief1y\n",
    "\n",
    "Even if there's nothing to explain, here's the additional explanation:\n",
    "\n",
    "The loop starts at index 1 → so 'age' is skipped  - range(**1**, len(obj))\n",
    "\n",
    "At each step, we take a slice from index 1 to i+1 → so only the numbers\n",
    "\n",
    "i=1 → [12] → avg = 12.0  \n",
    "i=2 → [12, 20] → avg = 16.0  \n",
    "i=3 → [12, 20, 1] → avg = 11.0\n"
   ]
  },
  {
   "cell_type": "markdown",
   "id": "4295fc80",
   "metadata": {},
   "source": [
    "## Question 9\n",
    "### ❓ Question\n",
    "\n",
    "Definujte dekorátor `retry` s parametry `num_retries`, `exception_to_check`, `sleep_time`, který v případě, že dekorovaná funkce vrátí výjimku danou druhým parametrem, počká (pomocí `time.sleep`) definovaný počet sekund a potom zkusí dekorovanou funkci spustit znovu (maximální počet pokusů je dán 1. parametrem). (6 bodů)\n"
   ]
  },
  {
   "cell_type": "code",
   "execution_count": 3,
   "id": "0d81a1ab",
   "metadata": {},
   "outputs": [
    {
     "name": "stdout",
     "output_type": "stream",
     "text": [
      "Trying...\n"
     ]
    }
   ],
   "source": [
    "import time\n",
    "def retry(num_retries, exception_to_check, sleep_time):\n",
    "    def decorator(func):\n",
    "        def wrapper(*args, **kwargs):\n",
    "            for _ in range(num_retries):\n",
    "                try:\n",
    "                    return func(*args, **kwargs)\n",
    "                except exception_to_check:\n",
    "                    time.sleep(sleep_time)\n",
    "            return func(*args, **kwargs)\n",
    "        return wrapper\n",
    "    return decorator\n",
    "\n",
    "# Example\n",
    "@retry(3, ValueError, 1)\n",
    "def test():\n",
    "    print(\"Trying...\")\n",
    "\n",
    "test()"
   ]
  },
  {
   "cell_type": "markdown",
   "id": "b1c41284",
   "metadata": {},
   "source": [
    "### 🤯 Explanation\n",
    "\n",
    "Well decorators, it's kinda hard.\n",
    "\n",
    "✅ 1. A basic decorator (no arguments):\n",
    "```python\n",
    "def decorator_name(func):\n",
    "    def wrapper():\n",
    "        ...\n",
    "    return wrapper\n",
    "```\n",
    "\n",
    "🔥 2. A decorator with arguments:\n",
    "```python\n",
    "def decorator_name(num_retries, exception_to_check, sleep_time):  # takes config\n",
    "    def decorator(func):                                 # wraps the function\n",
    "        def wrapper(*args, **kwargs):                    # adds retry logic\n",
    "            ...\n",
    "        return wrapper\n",
    "    return decorator\n",
    "```\n",
    "\n",
    "```python\n",
    "def retry(num_retries, exception_to_check, sleep_time):\n",
    "```\n",
    "- We pass arguments to the decorator (`2`, `ValueError`, `2`) to configure it.\n",
    "- So instead of hardcoding values, you can change them `dynamically` when you use it.\n",
    "\n",
    "`@retry(2, ValueError, 2)`\n",
    "\n",
    "```python\n",
    "def decorator(func)\n",
    "```\n",
    "- This wraps the function `(func)` we want to decorate. So when you use `@retry()`, you're telling Python to `apply that retry logic to the decorated function.`\n",
    "```python\n",
    "def wrapper(*args, **kwargs)\n",
    "```\n",
    "`*args` and `**kwargs` let the `wrapper` accept any arguments that the decorated function takes. \n",
    "- `*args` catches positional arguments (like 1, 2, 3)\n",
    "- `**kwargs` catches keyword arguments (like a=10, b=20)\n",
    "  \n",
    "*in other words it takes all args from func*\n",
    "\n",
    "The `try` and `except` block is explained at [Question 11](#question-11) \n"
   ]
  },
  {
   "cell_type": "markdown",
   "id": "d42de3ee",
   "metadata": {},
   "source": [
    "## Question 10\n",
    "### ❓ Question\n",
    "Co vypíše následující kód v Pythonu a proč? (5 bodů).\n",
    "```python\n",
    "s = {'Python':1991, 'Perl':1987, 'Ruby':1995}; print(''.join(c[1] for c in sorted (s, key=s.get)))\n",
    "```\n",
    "\n",
    "\n"
   ]
  },
  {
   "cell_type": "code",
   "execution_count": null,
   "id": "f150693d",
   "metadata": {},
   "outputs": [
    {
     "name": "stdout",
     "output_type": "stream",
     "text": [
      "eyu\n"
     ]
    }
   ],
   "source": [
    "s = {'Python':1991, 'Perl':1987, 'Ruby':1995}; print(''.join(c[1] for c in sorted (s, key=s.get)))"
   ]
  },
  {
   "cell_type": "markdown",
   "id": "3e18da2a",
   "metadata": {},
   "source": [
    "### 🤯 Explanation\n",
    "\n",
    " **`s` is a dictionary**:\n",
    "\n",
    "   ```python\n",
    "   {\n",
    "     'Python': 1991,\n",
    "     'Perl': 1987,\n",
    "     'Ruby': 1995\n",
    "   }\n",
    "   ```\n",
    "\n",
    "**`sorted(s, key=s.get)`**\n",
    "   This sorts the **keys of the dict**, but using the **values** as the sorting key.\n",
    "\n",
    "   * `s.get('Python')` → 1991\n",
    "   * `s.get('Perl')` → 1987\n",
    "   * `s.get('Ruby')` → 1995\n",
    "\n",
    "   So the sorted order of keys will be:\n",
    "\n",
    "   ```python\n",
    "   ['Perl', 'Python', 'Ruby']\n",
    "   ```\n",
    "\n",
    "**`c[1] for c in ...`**\n",
    "   We’re grabbing the **second character** (index 1) of each word:\n",
    "\n",
    "   * `'Perl'[1]` → `'e'`\n",
    "   * `'Python'[1]` → `'y'`\n",
    "   * `'Ruby'[1]` → `'u'`\n",
    "\n",
    "**`''.join(...)`**\n",
    "   This just joins the letters into a single string:\n",
    "\n",
    "   ```python\n",
    "   'e' + 'y' + 'u' → \"eyu\"\n",
    "   ```\n",
    "\n",
    "\n",
    "\n",
    "\n"
   ]
  },
  {
   "cell_type": "markdown",
   "id": "1baae423",
   "metadata": {},
   "source": [
    "## Question 11\n",
    "### ❓ Question\n",
    "\n",
    "Co vypíše následující kód v Pythonu a proč? (5 bodů).\n",
    "```python\n",
    "try:\n",
    "    for i in range(3):\n",
    "        try:\n",
    "            1 / 0\n",
    "            print('Divided by zero')\n",
    "        except ZeroDivisionError:\n",
    "            print('Inner ZeroDivisionError')\n",
    "            raise KeyError('Zero')\n",
    "        except KeyError:\n",
    "            print('Inner KeyError')\n",
    "        finally:\n",
    "            print('Finally block')\n",
    "            break\n",
    "except ZeroDivisionError:\n",
    "    print('Outer ZeroDivisionError')\n",
    "```"
   ]
  },
  {
   "cell_type": "code",
   "execution_count": null,
   "id": "ff63b1fe",
   "metadata": {},
   "outputs": [
    {
     "name": "stdout",
     "output_type": "stream",
     "text": [
      "Inner ZeroDivisionError\n",
      "Finally block\n"
     ]
    }
   ],
   "source": [
    "try:\n",
    "    for i in range(3):\n",
    "        try:\n",
    "            1 / 0\n",
    "            print('Divided by zero')\n",
    "        except ZeroDivisionError:\n",
    "            print('Inner ZeroDivisionError')\n",
    "            raise KeyError('Zero')\n",
    "        except KeyError:\n",
    "            print('Inner KeyError')\n",
    "        finally:\n",
    "            print('Finally block')\n",
    "            break\n",
    "except ZeroDivisionError:\n",
    "    print('Outer ZeroDivisionError')"
   ]
  },
  {
   "cell_type": "markdown",
   "id": "80834eeb",
   "metadata": {},
   "source": [
    "### 🤯 Explanation\n",
    "\n",
    "`try, expect, finally`\n",
    "\n",
    "Let's go\n",
    "\n",
    "```python\n",
    "try:\n",
    "    # risky code here\n",
    "except SomeError:\n",
    "    # if that code fails, handle it\n",
    "finally:\n",
    "    # always runs no matter what\n",
    "```\n",
    "\n",
    "Why use this?\n",
    "\n",
    "To **catch errors** (aka exceptions) and **stop your program from crashing** like a noob 💀\n",
    "It lets you say:\n",
    "\n",
    "> \"Yo Python, try this. But if it breaks, don't explode — do this instead.\"\n",
    "\n",
    "Example\n",
    "\n",
    "```python\n",
    "try:\n",
    "    x = 10 / 0\n",
    "except ZeroDivisionError:\n",
    "    print(\"Can't divide by 0 bro 😅\")\n",
    "finally:\n",
    "    print(\"This always runs 💯\")\n",
    "```\n",
    "Output:\n",
    "\n",
    "```\n",
    "Can't divide by 0 bro 😅\n",
    "This always runs 💯\n",
    "```\n",
    "\n",
    "\n",
    "Explanation Like You’re 5:\n",
    "\n",
    "| Part      | What it does                                                            |\n",
    "| --------- | ----------------------------------------------------------------------- |\n",
    "| `try`     | Python runs this code and **hopes nothing breaks**                      |\n",
    "| `except`  | If an error happens in `try`, this block **jumps in to save the day**   |\n",
    "| `finally` | No matter what happened (error or not), this **always runs at the end** |\n",
    "\n",
    "You can also catch **multiple errors**:\n",
    "\n",
    "```python\n",
    "try:\n",
    "    ...\n",
    "except ValueError:\n",
    "    print(\"Not a number\")\n",
    "except ZeroDivisionError:\n",
    "    print(\"Bruh can't divide by 0\")\n",
    "finally:\n",
    "    print(\"No matter what, I run 🔁\")\n",
    "```\n",
    "\n",
    "Brooo 🔥 your breakdown is **solid** and easy to follow — real student-friendly 💪 but I’ll help you **tighten it up** a bit and make it smoother (and fix one tiny logic detail 😉).\n",
    "\n",
    "---\n",
    "The code in our `task` starts with this:\n",
    "\n",
    "```python\n",
    "try:\n",
    "    ...\n",
    "except ZeroDivisionError:\n",
    "    print('Outer ZeroDivisionError')\n",
    "```\n",
    "\n",
    "So the **outer try** is ready to catch a `ZeroDivisionError`.\n",
    "\n",
    "\n",
    "Then inside that block, we have a `for` loop:\n",
    "\n",
    "```python\n",
    "for i in range(3):\n",
    "    try:\n",
    "        1 / 0\n",
    "        print('Divided by zero')\n",
    "    except ZeroDivisionError:\n",
    "        print('Inner ZeroDivisionError')\n",
    "        raise KeyError('Zero')\n",
    "    except KeyError:\n",
    "        print('Inner KeyError')\n",
    "    finally:\n",
    "        print('Finally block')\n",
    "        break\n",
    "```\n",
    "\n",
    "Step by step\n",
    "\n",
    "* We enter the loop → `i = 0`\n",
    "\n",
    "* `1 / 0` is executed → BOOM 💥 `ZeroDivisionError` happens\n",
    "\n",
    "* Python jumps **straight into** this:\n",
    "\n",
    "  ```python\n",
    "  except ZeroDivisionError:\n",
    "      print('Inner ZeroDivisionError')\n",
    "      raise KeyError('Zero')\n",
    "  ```\n",
    "\n",
    "* It prints:\n",
    "\n",
    "  > Inner ZeroDivisionError\n",
    "\n",
    "* Then it **raises a new error**: `KeyError('Zero')`\n",
    "\n",
    "* Now, ⚠️ **that new error is NOT handled** inside the same `try`, so it escapes upward\n",
    "\n",
    "\n",
    "But before escaping:\n",
    "\n",
    "We hit the `finally` block:\n",
    "\n",
    "```python\n",
    "finally:\n",
    "    print('Finally block')\n",
    "    break\n",
    "```\n",
    "\n",
    "* It prints:\n",
    "\n",
    "  > Finally block\n",
    "* Then it `break`s the loop\n",
    "\n",
    "\n",
    "❗Important Thing:\n",
    "\n",
    "Even though we raised a `KeyError`, the `finally` still runs ✅  \n",
    "**BUT**:  \n",
    "`break` executes **before** the error has a chance to escape and crash the program. So the program **doesn’t crash**, and the outer `except` never runs, because it's waiting for a `ZeroDivisionError`, not a `KeyError`.\n"
   ]
  },
  {
   "cell_type": "markdown",
   "id": "53a3a4a3",
   "metadata": {},
   "source": [
    "## Question 12\n",
    "### ❓ Question\n",
    "(7 bodů)\n",
    "S využitím dopředného a zpětného vyhlížení doplňte pravou stranu výrazu camel_re následující kód vypisoval   \n",
    "`Apple Orange Banana Strawberry Peach`\n",
    "```python\n",
    "import re\n",
    "\n",
    "camel_re = r''\n",
    "fruits = 'AppleOrangeBananaStrawberryPeach'\n",
    "\n",
    "print(re.sub(camel_re, ' ', fruits))\n",
    "```\n",
    "\n"
   ]
  },
  {
   "cell_type": "code",
   "execution_count": null,
   "id": "a0282306",
   "metadata": {},
   "outputs": [
    {
     "name": "stdout",
     "output_type": "stream",
     "text": [
      "Apple Orange Banana Strawberry Peach\n"
     ]
    }
   ],
   "source": [
    "import re\n",
    "\n",
    "camel_re = r'(?<=([a-z]))(?=([A-Z]))'\n",
    "fruits = 'AppleOrangeBananaStrawberryPeach'\n",
    "\n",
    "print(re.sub(camel_re, ' ', fruits))\n"
   ]
  },
  {
   "cell_type": "markdown",
   "id": "0e7518b6",
   "metadata": {},
   "source": [
    "### 🤯 Explanation\n",
    "\n",
    "Well, regexes\n",
    "\n",
    "More on [Regex](https://regexr.com)\n",
    "\n",
    "() - capture group  \n",
    "?<=  - positive lookbehind  \n",
    "?= - positive lookahead  \n",
    "[a-z] - from a to z  \n",
    "[A-Z] - from A to Z "
   ]
  },
  {
   "cell_type": "markdown",
   "id": "5f78e988",
   "metadata": {},
   "source": [
    "## Question 13\n",
    "### ❓ Question\n",
    "\n",
    "Co vypíše následující kód v Pythonu a proč?\n",
    "\n",
    "```python\n",
    "words = ('flower', 'foe', 'flight')\n",
    "for i in zip(*words):\n",
    "    print(i)\n",
    "```"
   ]
  },
  {
   "cell_type": "code",
   "execution_count": null,
   "id": "0bd9b77e",
   "metadata": {},
   "outputs": [
    {
     "name": "stdout",
     "output_type": "stream",
     "text": [
      "('f', 'f', 'f')\n",
      "('l', 'o', 'l')\n",
      "('o', 'e', 'i')\n"
     ]
    }
   ],
   "source": [
    "words = ('flower', 'foe', 'flight')\n",
    "for i in zip(*words):\n",
    "    print(i)"
   ]
  },
  {
   "cell_type": "markdown",
   "id": "245e0407",
   "metadata": {},
   "source": [
    "### 🤯 Explanation\n",
    "\n",
    "\n",
    "What does `zip(*words)` do?\n",
    "\n",
    "\n",
    "`*words` means:\n",
    "\n",
    "You’re **unpacking** the tuple, so this becomes:\n",
    "\n",
    "```python\n",
    "zip('flower', 'foe', 'flight')\n",
    "```\n",
    "\n",
    "Each of those strings is an iterable → a sequence of characters.\n",
    "\n",
    "What does `zip()` do?\n",
    "\n",
    "`zip()` takes elements **at the same position** from each input and zips them into tuples.\n",
    "So like:\n",
    "\n",
    "```python\n",
    "zip(\"flower\", \"foe\", \"flight\")\n",
    "```\n",
    "Becomes:\n",
    "\n",
    "```python\n",
    "[\n",
    " ('f', 'f', 'f'),   # index 0\n",
    " ('l', 'o', 'l'),   # index 1\n",
    " ('o', 'e', 'i'),   # index 2\n",
    "]\n",
    "```\n",
    "\n",
    "⚠️**It stops at the shortest input**, which is `\"foe\"` → only 3 characters.\n",
    "\n",
    "\n",
    "\n"
   ]
  },
  {
   "cell_type": "markdown",
   "id": "e65923b2",
   "metadata": {},
   "source": [
    "## Question 14\n",
    "### ❓ Question\n",
    "\n",
    "Co vypíše následující kód v Pythonu a proč?\n",
    "```python\n",
    "class A(object):\n",
    "    def __init__(self):\n",
    "        print(\"entering A\")\n",
    "        super().__init__()\n",
    "        print(\"leaving A\")\n",
    "\n",
    "class B(A):\n",
    "    def __init__(self):\n",
    "        print(\"entering B\")\n",
    "        super().__init__()\n",
    "        print(\"leaving B\")\n",
    "\n",
    "class C(object):\n",
    "    def __init__(self):\n",
    "        print(\"no super() in C\")\n",
    "\n",
    "class D(object):\n",
    "    def __init__(self):\n",
    "        print(\"entering D\")\n",
    "        super().__init__()\n",
    "        print(\"leaving D\")\n",
    "\n",
    "class E(B, C, D):\n",
    "    def __init__(self):\n",
    "        print(\"entering E\")\n",
    "        super().__init__()\n",
    "        print(\"leaving E\")\n",
    "\n",
    "e = E()\n",
    "```"
   ]
  },
  {
   "cell_type": "code",
   "execution_count": null,
   "id": "8f007782",
   "metadata": {},
   "outputs": [
    {
     "name": "stdout",
     "output_type": "stream",
     "text": [
      "entering E\n",
      "entering B\n",
      "entering A\n",
      "no super() in C\n",
      "leaving A\n",
      "leaving B\n",
      "leaving E\n"
     ]
    }
   ],
   "source": [
    "class A(object):\n",
    "    def __init__(self):\n",
    "        print(\"entering A\")\n",
    "        super().__init__()\n",
    "        print(\"leaving A\")\n",
    "\n",
    "class B(A):\n",
    "    def __init__(self):\n",
    "        print(\"entering B\")\n",
    "        super().__init__()\n",
    "        print(\"leaving B\")\n",
    "\n",
    "class C(object):\n",
    "    def __init__(self):\n",
    "        print(\"no super() in C\")\n",
    "\n",
    "class D(object):\n",
    "    def __init__(self):\n",
    "        print(\"entering D\")\n",
    "        super().__init__()\n",
    "        print(\"leaving D\")\n",
    "\n",
    "class E(B, C, D):\n",
    "    def __init__(self):\n",
    "        print(\"entering E\")\n",
    "        super().__init__()\n",
    "        print(\"leaving E\")\n",
    "\n",
    "e = E()"
   ]
  },
  {
   "cell_type": "markdown",
   "id": "189fee56",
   "metadata": {},
   "source": [
    "### 🤯 Explanation\n",
    "\n",
    "Now Python builds an `MRO` (which is the order `super()` follows)\n",
    "\n",
    "In multiple inheritance, `super()` doesn't just go to the `\"parent\"` in the code — it follows something called the `MRO: Method Resolution Order`.\n",
    "\n",
    "So let's build an MRO\n",
    "\n",
    "```\n",
    "class E(B, C, D)\n",
    "     /  |   \\\n",
    "    B   C    D\n",
    "    |\n",
    "    A\n",
    "```\n",
    "so MRO will be something like\n",
    "`E -> B -> A -> C (we don't have super here, so break here)`\n",
    "\n",
    "then we are calling it accordingly\n",
    "\n",
    "first we go to E, when we call `__super__` we go the `subclass` and so on "
   ]
  },
  {
   "cell_type": "markdown",
   "id": "964d1537",
   "metadata": {},
   "source": [
    "## Question 15\n",
    "### ❓ Question\n",
    "(7 bodů)\n",
    "Pomocí nastavení klíčů, případně dalších parametrů funkcí sort/sorted v Pythonu, utřiďte obsah slovníku, obsahujícího jako klíče trojice a jako hodnoty seznamy, podle délky seznamů (v hodnotách slovníku) vzestupně a, při rovnosti délek, podle 3. prvků trojice a 2. prvků trojice, nezávisle na velikosti písmen, sestupně. Např. slovník: \n",
    "> {(1,'b', 'C'): [1,2], (2,'A','c'): [2,3], (3,'c','d'): [0,0,0], (4,'e', 'b'): [2,3],'(2, 'a','b'): [2,3]} \n",
    "\n",
    "bude seřazen \n",
    "\n",
    "> [((1, 'b', 'C'),[1, 2]), ((2, 'A', 'c'), [2, 3]),((4, 'e', 'b'), [2, 3]), ((2, 'a', 'b'),[2, 3]),((3, 'c', 'd'), [0, 0, 0])]"
   ]
  },
  {
   "cell_type": "code",
   "execution_count": null,
   "id": "94026c8a",
   "metadata": {},
   "outputs": [
    {
     "name": "stdout",
     "output_type": "stream",
     "text": [
      "[(('1', 'b', 'C'), [1, 2]), (('2', 'A', 'c'), [2, 3]), (('4', 'e', 'b'), [2, 3]), (('2', 'a', 'b'), [2, 3]), (('3', 'c', 'd'), [0, 0, 0])]\n"
     ]
    }
   ],
   "source": [
    "data = {\n",
    "    ('1', 'b', 'C'): [1, 2],\n",
    "    ('2', 'A', 'c'): [2, 3],\n",
    "    ('3', 'c', 'd'): [0, 0, 0],\n",
    "    ('4', 'e', 'b'): [2, 3],\n",
    "    ('2', 'a', 'b'): [2, 3]\n",
    "}\n",
    "\n",
    "sorted_items = sorted(data.items(), key=lambda item: len(item[1]))\n",
    "\n",
    "\n",
    "print(sorted_items)"
   ]
  },
  {
   "cell_type": "markdown",
   "id": "4164b986",
   "metadata": {},
   "source": [
    "### 🤯 Explanation\n",
    "\n",
    "I didn't quite understand the part with same `len`...\n",
    "\n",
    "So here's the code I managed to make\n",
    "\n",
    "More on lambda funcs and keys\n",
    "[Question 4 (lambda and keys)](#question-4-(lambda-and-keys)) \n"
   ]
  },
  {
   "cell_type": "markdown",
   "id": "7fa39a13",
   "metadata": {},
   "source": [
    "### Note by chief1y\n",
    "\n",
    "Here's a bit wider explanation and addition to the existing code"
   ]
  },
  {
   "cell_type": "markdown",
   "id": "8251b3f7",
   "metadata": {},
   "source": [
    "If two lists have the same length, Python won’t know how to sort them — so it just picks whatever.\n",
    "\n",
    "Example:\n",
    "\n",
    "```python\n",
    "data = {\n",
    "    ('1', 'b', 'Z'): [1, 2],\n",
    "    ('2', 'A', 'a'): [1, 2],\n",
    "}\n",
    "```\n",
    "\n",
    "This might sort wrong if we only use len(item[1]).\n",
    "\n",
    "To fix it, we tell Python exactly what to do next:\n",
    "\n",
    "Sort by 3rd letter ↓, then 2nd letter ↓ (ignore case)"
   ]
  },
  {
   "cell_type": "code",
   "execution_count": null,
   "id": "8811db04",
   "metadata": {},
   "outputs": [],
   "source": [
    "sorted_items = sorted(\n",
    "    data.items(),\n",
    "    key=lambda item: (\n",
    "        len(item[1]),\n",
    "        -ord(item[0][2].lower()),\n",
    "        -ord(item[0][1].lower())\n",
    "    )\n",
    ")"
   ]
  },
  {
   "cell_type": "markdown",
   "id": "631f8a62",
   "metadata": {},
   "source": [
    "Using `ord()` turns the letter into a number.\n",
    "We add minus (`-`) to make it descending."
   ]
  },
  {
   "cell_type": "markdown",
   "id": "300649dc",
   "metadata": {},
   "source": [
    "## Question 16\n",
    "### ❓ Question\n",
    "(8 bodů)  \n",
    "Definujte v Pythonu třídu `SortedTuple` jako podtřídu `tuple`, která uloží utříděné prvky předaného iterovatelného objektu, v atributu `non_zero` bude uchovávat počet nenulových hodnot v n-tici a v `instances_created` počet utříděných n-tic (instancí třídy `SortedTuple`), které už byly vytvořeny. Metoda `differences` bude generovat (jako generátorová funkce) rozdíly vždy dvou po sobě jdoucích prvků (n+1)-n. Všechny ostatní operace s instancemi musí fungovat `stejně jako ve třídě tuple` (nesmí být přepsány ve třídě SortedTuple). \n",
    "Například:\n",
    "```python\n",
    "st = SortedTuple((k * 11 for k in (3, 0, 1, 0, 2)))\n",
    "print(st)\n",
    "```\n",
    "vytiskne \n",
    "> (0, 0, 11, 22, 33)\n",
    "> \n",
    "a\n",
    "```python\n",
    "print(list(st.differences())) \n",
    "```\n",
    "\n",
    "vytiskne\n",
    "> [0, 11, 11, 11] \n",
    "\n"
   ]
  },
  {
   "cell_type": "code",
   "execution_count": null,
   "id": "121632ed",
   "metadata": {},
   "outputs": [
    {
     "name": "stdout",
     "output_type": "stream",
     "text": [
      "SortedTuple: (0, 0, 11, 22, 33)\n",
      "None zero: 3\n",
      "List differences: [0, 11, 11, 11]\n",
      "Instances: 1\n"
     ]
    }
   ],
   "source": [
    "class SortedTuple(tuple):\n",
    "    instances_created = 0\n",
    "\n",
    "    def __new__(cls,other):\n",
    "        cls.instances_created += 1\n",
    "        other = tuple(sorted(other))\n",
    "        instance = super().__new__(cls,other)\n",
    "        \n",
    "        instance.non_zero = len(other) - other.count(0)\n",
    "\n",
    "        \n",
    "        return instance\n",
    "    def differences(self):\n",
    "        for a,b in zip(self, self[1:]):\n",
    "            yield b - a\n",
    "\n",
    "st = SortedTuple((k * 11 for k in (3, 0, 1, 0, 2)))\n",
    "print(f'SortedTuple: {st}')                      # (0, 0, 11, 22, 33)\n",
    "print(f'None zero: {st.non_zero}')            # 3\n",
    "print(f'List differences: {list(st.differences())}' ) # [0, 11, 11, 11]\n",
    "print(f'Instances: {SortedTuple.instances_created}')"
   ]
  },
  {
   "cell_type": "markdown",
   "id": "ef9ae3e0",
   "metadata": {},
   "source": [
    "### 🤯 Explanation\n",
    "\n",
    "More on `__new__`, `cls` in [Question 7](#question-7)\n",
    "\n",
    "Make sure to add `instances_created = 0` outside `__init__` and other func to make it `global` to do whole class\n",
    "\n",
    "More on `zip()` in [Question 13](#question-13)\n"
   ]
  },
  {
   "cell_type": "markdown",
   "id": "a93295db",
   "metadata": {},
   "source": [
    "## Question 17\n",
    "### ❓ Question\n",
    "\n",
    "\n",
    "Definujte co nejefektivnější **generátorovou funkci** `dupl_with_given_key`, která bude mít 2 parametry:\n",
    "\n",
    "* povinný parametr `iterable`, odpovídající předanému iterovatelnému objektu (může být i nekonečný, obecně neindexovatelný),\n",
    "* nepovinný parametr `key`, odpovídající funkci, která při volání na položce objektu `iterable` vrátí hodnotu klíče, s **defaultní hodnotou identické funkce** \n",
    "\n",
    "Funkce bude generovat  **pouze ty prvky ze vstupu**, jejichž klíč se **již vyskytl** u předchozích prvků. Tzn. že vrátí pouze **duplicity podle klíče**.\n",
    "\n",
    "Příklad:\n",
    "\n",
    "```python\n",
    "print(tuple(dupl_with_given_key([[1], [2,3], [4], [5,6,7], [8,9]], key=len)))\n",
    "# Výstup: ([4], [8, 9])\n",
    "```\n",
    "\n",
    "```python\n",
    "print(tuple(dupl_with_given_key([[2,3], [4], [1], [4], [2,3]])))\n",
    "# Výstup: ([4], [2, 3])\n",
    "```\n",
    "Jaká je **časová složitost** `dupl_with_given_key(range(10**7))` a proč?\n",
    "\n"
   ]
  },
  {
   "cell_type": "code",
   "execution_count": 4,
   "id": "84ae8039",
   "metadata": {},
   "outputs": [
    {
     "name": "stdout",
     "output_type": "stream",
     "text": [
      "([4], [8, 9])\n",
      "([4], [2, 3])\n"
     ]
    }
   ],
   "source": [
    "def dupl_with_given_key(iterable, key= lambda x: x):\n",
    "    seen = [] \n",
    "    for item in iterable:\n",
    "        if key(item) in seen:\n",
    "            yield item  \n",
    "        else:\n",
    "            seen.append(key(item))  \n",
    "            \n",
    "\n",
    "print(tuple(dupl_with_given_key([[1], [2, 3], [4], [5, 6, 7], [8, 9]], key=len)))\n",
    "# Výstup: ([4], [8, 9])\n",
    "\n",
    "print(tuple(dupl_with_given_key([[2, 3], [4], [1], [4], [2, 3]])))\n",
    "# Výstup: ([4], [2, 3])\n"
   ]
  },
  {
   "cell_type": "markdown",
   "id": "eeb2c6d5",
   "metadata": {},
   "source": [
    "Časová složítost je 0(n)"
   ]
  },
  {
   "cell_type": "markdown",
   "id": "1d227c2a",
   "metadata": {},
   "source": [
    "### 🤯 Explanation\n",
    "\n",
    "| Code                                      | Complexity | Why?                            |\n",
    "| ----------------------------------------- | ---------- | ------------------------------- |\n",
    "| `for i in range(n):`                      | O(n)       | One loop, runs `n` times        |\n",
    "| `for i in range(n): for j in range(n):`   | O(n²)      | Nested loop — runs `n * n`      |\n",
    "| `for i in range(n): for j in range(100):` | O(n)       | Inner loop is constant          |\n",
    "| `while n > 1: n = n // 2`                 | O(log n)   | Halves every time (binary-like) |\n",
    "| `for i in range(n): my_list.append(i)`    | O(n)       | Adds one thing at a time        |\n",
    "\n",
    "Default `seen` search algorithm :D \n",
    "\n",
    "\n",
    "More on `lambda` and `key` in [Question 4](#question-4) "
   ]
  },
  {
   "cell_type": "markdown",
   "id": "b131c5b0",
   "metadata": {},
   "source": [
    "## Question 18\n",
    "### ❓ Question\n",
    "Definujte dekorátor `@limit_calls` s parametry `max_calls` a `error_message_tail` (defaultní hodnoty jsou 2 a 'called too often') pro obecné funkce tak, aby např.:\n",
    "\n",
    "```python\n",
    "import math\n",
    "\n",
    "@limit_calls(1, 'that is too much')\n",
    "def pyth(a, b):\n",
    "    c = math.sqrt(a**2 + b**2)\n",
    "    return c\n",
    "\n",
    "print(pyth(3, 4))\n",
    "print(pyth(6, 8))\n",
    "```\n",
    "\n",
    "Vypsalo:\n",
    "\n",
    "```\n",
    "5.0\n",
    "a dále\n",
    "__main__.TooManyCallsError: function \"pyth\" - that is too much\n",
    "```\n",
    "\n",
    "(7 bodů)\n",
    "\n"
   ]
  },
  {
   "cell_type": "code",
   "execution_count": null,
   "id": "ada3da73",
   "metadata": {},
   "outputs": [
    {
     "name": "stdout",
     "output_type": "stream",
     "text": [
      "5.0\n"
     ]
    },
    {
     "ename": "TooManyCallsError",
     "evalue": "function \"pyth\" - that is too much",
     "output_type": "error",
     "traceback": [
      "\u001b[31m---------------------------------------------------------------------------\u001b[39m",
      "\u001b[31mTooManyCallsError\u001b[39m                         Traceback (most recent call last)",
      "\u001b[36mCell\u001b[39m\u001b[36m \u001b[39m\u001b[32mIn[2]\u001b[39m\u001b[32m, line 26\u001b[39m\n\u001b[32m     23\u001b[39m     \u001b[38;5;28;01mreturn\u001b[39;00m c\n\u001b[32m     25\u001b[39m \u001b[38;5;28mprint\u001b[39m(pyth(\u001b[32m3\u001b[39m, \u001b[32m4\u001b[39m))  \n\u001b[32m---> \u001b[39m\u001b[32m26\u001b[39m \u001b[38;5;28mprint\u001b[39m(\u001b[43mpyth\u001b[49m\u001b[43m(\u001b[49m\u001b[32;43m6\u001b[39;49m\u001b[43m,\u001b[49m\u001b[43m \u001b[49m\u001b[32;43m8\u001b[39;49m\u001b[43m)\u001b[49m)  \n",
      "\u001b[36mCell\u001b[39m\u001b[36m \u001b[39m\u001b[32mIn[2]\u001b[39m\u001b[32m, line 12\u001b[39m, in \u001b[36mlimit_calls.<locals>.decorator.<locals>.wrapper\u001b[39m\u001b[34m(*args, **kwargs)\u001b[39m\n\u001b[32m     10\u001b[39m \u001b[38;5;28;01mdef\u001b[39;00m\u001b[38;5;250m \u001b[39m\u001b[34mwrapper\u001b[39m(*args, **kwargs):\n\u001b[32m     11\u001b[39m     \u001b[38;5;28;01mif\u001b[39;00m func._call_count >= max_calls:\n\u001b[32m---> \u001b[39m\u001b[32m12\u001b[39m         \u001b[38;5;28;01mraise\u001b[39;00m TooManyCallsError(\u001b[33mf\u001b[39m\u001b[33m'\u001b[39m\u001b[33mfunction \u001b[39m\u001b[33m\"\u001b[39m\u001b[38;5;132;01m{\u001b[39;00mfunc.\u001b[34m__name__\u001b[39m\u001b[38;5;132;01m}\u001b[39;00m\u001b[33m\"\u001b[39m\u001b[33m - \u001b[39m\u001b[38;5;132;01m{\u001b[39;00merror_message_tail\u001b[38;5;132;01m}\u001b[39;00m\u001b[33m'\u001b[39m)\n\u001b[32m     13\u001b[39m     func._call_count += \u001b[32m1\u001b[39m\n\u001b[32m     14\u001b[39m     \u001b[38;5;28;01mreturn\u001b[39;00m func(*args, **kwargs)\n",
      "\u001b[31mTooManyCallsError\u001b[39m: function \"pyth\" - that is too much"
     ]
    }
   ],
   "source": [
    "import math\n",
    "\n",
    "class TooManyCallsError(Exception):\n",
    "    pass\n",
    "\n",
    "def limit_calls(max_calls=2, error_message_tail='called too often'):\n",
    "    def decorator(func):\n",
    "        func._call_count = 0  # Keeps track of the number of function calls\n",
    "\n",
    "        def wrapper(*args, **kwargs):\n",
    "            if func._call_count >= max_calls:\n",
    "                raise TooManyCallsError(f'function \"{func.__name__}\" - {error_message_tail}')\n",
    "            func._call_count += 1\n",
    "            return func(*args, **kwargs)\n",
    "        \n",
    "        return wrapper\n",
    "\n",
    "    return decorator\n",
    "\n",
    "@limit_calls(1, 'that is too much')\n",
    "def pyth(a, b):\n",
    "    c = math.sqrt(a**2 + b**2)\n",
    "    return c\n",
    "\n",
    "print(pyth(3, 4))  \n",
    "print(pyth(6, 8))  \n"
   ]
  },
  {
   "cell_type": "markdown",
   "id": "e670e796",
   "metadata": {},
   "source": [
    "### 🤯 Explanation\n",
    "\n",
    "More on `decorators` in [Question 9](#question-9)\n",
    "\n",
    "make sure to assign a variable to a func outside `wrapper`, so we can you it in `wrapper` and track count\n",
    "\n",
    "```python\n",
    "func._call_count = 0  # Keeps track of the number of function calls`\n",
    "```\n"
   ]
  },
  {
   "cell_type": "markdown",
   "id": "bd021d92",
   "metadata": {},
   "source": [
    "----\n",
    "\n",
    "# Sources\n",
    "Special thanks to\n",
    "- xtesar43_vutbr_cz(fitchats)\n",
    "- ChatGPT\n",
    "- Chief's nervous system\n",
    "\n",
    "---\n",
    "\n",
    "📝 *Last updated: [3:30 AM 5/12/2025]*  \n",
    "📚 Keep learning, future python and scripts master! 💻🔥\n",
    "\n"
   ]
  }
 ],
 "metadata": {
  "kernelspec": {
   "display_name": "Python 3",
   "language": "python",
   "name": "python3"
  },
  "language_info": {
   "codemirror_mode": {
    "name": "ipython",
    "version": 3
   },
   "file_extension": ".py",
   "mimetype": "text/x-python",
   "name": "python",
   "nbconvert_exporter": "python",
   "pygments_lexer": "ipython3",
   "version": "3.12.6"
  }
 },
 "nbformat": 4,
 "nbformat_minor": 5
}
