{
 "cells": [
  {
   "cell_type": "markdown",
   "id": "23357f06",
   "metadata": {},
   "source": [
    "# 🧠 ISJ - Scripting Languages\n",
    "---\n",
    "## ⚠️ Warning  \n",
    "*I DO NOT guarantee the accuracy of the content.*\n",
    "\n",
    "---\n",
    "\n",
    "## 📌 Table of Contents  \n",
    "- [🧠 ISJ - Scripting Languages](#-isj---scripting-languages)  \n",
    "  - [⚠️ Warning](#️warning)  \n",
    "  - [📌 Table of Contents](#-table-of-contents)  \n",
    "  - [Question 1](#question-1)  \n",
    "  - [Question 2](#question-2)  \n",
    "  - [Question 3](#question-3) \n",
    "  - [Question 4](#question-4) \n",
    "  - [Question 5](#question-5) \n",
    "  - [Question 6](#question-6) \n",
    "  - [Question 7](#question-7)\n",
    "  - [Question 8](#question-8)\n",
    "  - [Question 9](#question-9)\n",
    "  - [Question 10](#question-10)\n",
    "  - [Question 11](#question-11)\n",
    "\n"
   ]
  },
  {
   "cell_type": "markdown",
   "id": "2ebf1ccd",
   "metadata": {},
   "source": [
    "## Question 1\n",
    "### ❓ Question  \n",
    "*(4 body)*  \n",
    "Doplňte definici regulárního výrazu ve finditer, tak aby výsledek:  \n",
    "\n",
    "```python\n",
    "text = 'abbacccdee'; import re; [m[0] for m in re.finditer(r'...', text)]\n",
    "```\n",
    "byl \n",
    "> ['a', 'bb', 'a', 'ccc', 'd', 'ee']\n"
   ]
  },
  {
   "cell_type": "code",
   "execution_count": 14,
   "id": "55275574",
   "metadata": {},
   "outputs": [
    {
     "name": "stdout",
     "output_type": "stream",
     "text": [
      "['a', 'bb', 'a', 'ccc', 'd', 'ee']\n"
     ]
    }
   ],
   "source": [
    "import re\n",
    "text = 'abbacccdee'\n",
    "result = [m[0] for m in re.finditer(r'(a+|b+|c+|d+|e+)', text)]\n",
    "print(result)"
   ]
  },
  {
   "cell_type": "markdown",
   "id": "fec5e75b",
   "metadata": {},
   "source": [
    "### 🤯 Explanation\n",
    "\n",
    "We match:\n",
    "- `'bb'`, `'cce'`, `'ee'` as whole units\n",
    "\n",
    "we need only to match that particular string, so we can hardcode\n",
    "\n",
    "(a+|b+|c+|d+|e+)\n",
    "\n",
    "- () = capturing group\n",
    "- a,b,c,d,e = character we want to match\n",
    "- \\+         = 1 or more repetition\n",
    "- |         = or"
   ]
  },
  {
   "cell_type": "markdown",
   "id": "c2ab978f",
   "metadata": {},
   "source": [
    "More on [Regex](https://regexr.com)"
   ]
  },
  {
   "cell_type": "markdown",
   "id": "f4b9d9fa",
   "metadata": {},
   "source": [
    "## Question 2\n",
    "\n",
    "### ❓ Question  \n",
    "Co vypíše následující kód v Pythonu a proč (3 body)\n",
    "```python\n",
    "def e_o (num): return 'eovdedn' [num%2::2] print (e_o(1))\n",
    "```"
   ]
  },
  {
   "cell_type": "code",
   "execution_count": 15,
   "id": "6eb97fbe",
   "metadata": {},
   "outputs": [
    {
     "name": "stdout",
     "output_type": "stream",
     "text": [
      "odd\n"
     ]
    }
   ],
   "source": [
    "def e_o (num): return 'eovdedn' [num%2::2]\n",
    "print (e_o(1))"
   ]
  },
  {
   "cell_type": "markdown",
   "id": "43d580e8",
   "metadata": {},
   "source": [
    "### 🤯 Explanation\n",
    "\n",
    "Let's first get the slicing stuff\n",
    "sequence[1:5:1]\n",
    "The slice [start:stop:step]\n",
    "\n",
    "| Part    | Default if `step=1`         | Default if `step=-1`        | Meaning                                            |\n",
    "|---------|-----------------------------|------------------------------|----------------------------------------------------|\n",
    "| `start` | `0`                         | `-1` (last index)            | Where slicing starts                               |\n",
    "| `stop`  | `len(sequence)`             | `None` (slice until start)   | Where slicing stops (exclusive!)                  |\n",
    "| `step`  | `1`                         | `-1`                         | Direction & skip interval (1 = forward, -1 = back) |\n",
    "\n",
    "\n",
    "\n",
    "**!Important start is inclusive, stop is not inclusive!**\n",
    "\n",
    "Let's head back to our task\n",
    "\n",
    "1. [num % 2.... -> this gives either 0 (even) or 1 (odd) `start`\n",
    "2. `::` means that stop is ommited and it sets the default `len(sequence)`\n",
    "3. `2` is step\n",
    "4. The slicing is used on `eovdedn`\n",
    "\n",
    "For example in case of 3 we get\n",
    ">[1:len(sequence):2]\n",
    "\n",
    "now the only thing is, we need to calculate the result! YOU CAN DO IT ALONE, I EXPLAINED AS FOR AND IDIOT\n",
    "\n"
   ]
  },
  {
   "cell_type": "markdown",
   "id": "c9fcd2e6",
   "metadata": {},
   "source": [
    "## Question 3\n",
    "### ❓ Question  \n",
    "Co vypíše následující kód v Pythonu a proč? (4 bodů)\n",
    "```python\n",
    "sum(x>5 for x in range(10))\n",
    "```"
   ]
  },
  {
   "cell_type": "code",
   "execution_count": 16,
   "id": "ea323791",
   "metadata": {},
   "outputs": [
    {
     "data": {
      "text/plain": [
       "4"
      ]
     },
     "execution_count": 16,
     "metadata": {},
     "output_type": "execute_result"
    }
   ],
   "source": [
    "sum(x>5 for x in range(10))"
   ]
  },
  {
   "cell_type": "markdown",
   "id": "b2e9a018",
   "metadata": {},
   "source": [
    "### 🤯 Explanation\n",
    "\n",
    "Well `sum` is just  \n",
    "\n",
    "`range(10)` is from 0 to 9\n",
    "\n",
    "so we get\n",
    "- 0 - false\n",
    "- 1 - false\n",
    "- 2 - false\n",
    "- 3 - false\n",
    "- 4 - false\n",
    "- 5 - false\n",
    "- 6 - true\n",
    "- 7 - true\n",
    "- 8 - true\n",
    "- 9 - true\n",
    "  \n",
    "In python false is `0`, true is `1`  \n",
    "Just summ the trues"
   ]
  },
  {
   "cell_type": "markdown",
   "id": "469e15ea",
   "metadata": {},
   "source": [
    "## Question 4\n",
    "### ❓ Question  \n",
    "\n",
    "\n",
    "Co vypíše následující kód v Pythonu a proč? (4 bodů)\n",
    "```python\n",
    "print(sorted ([8,3,2,42,5], key = lambda x: 0 if x == 42 or x%2 else x))\n",
    "```"
   ]
  },
  {
   "cell_type": "code",
   "execution_count": 17,
   "id": "3da9da13",
   "metadata": {},
   "outputs": [
    {
     "name": "stdout",
     "output_type": "stream",
     "text": [
      "[3, 42, 5, 2, 8]\n"
     ]
    }
   ],
   "source": [
    "print(sorted ([8,3,2,42,5], key = lambda x: 0 if x == 42 or x%2 else x))"
   ]
  },
  {
   "cell_type": "markdown",
   "id": "331c937c",
   "metadata": {},
   "source": [
    "### 🤯 Explanation\n",
    "\n",
    "Fine, lambdas are just like small, anonymous functions you can assign to a variable.\n"
   ]
  },
  {
   "cell_type": "code",
   "execution_count": 18,
   "id": "bfd9138e",
   "metadata": {},
   "outputs": [
    {
     "name": "stdout",
     "output_type": "stream",
     "text": [
      "5\n"
     ]
    }
   ],
   "source": [
    "add = lambda x, y: x + y\n",
    "print(add(2, 3))  # Output: 5"
   ]
  },
  {
   "cell_type": "markdown",
   "id": "9f6ddfb4",
   "metadata": {},
   "source": [
    "`sorted()` is just sorting the list  \n",
    "Normally, sorted() sorts stuff in order — numbers, strings, etc.  \n",
    "BUT when you use `key=...`, you tell Python how to sort each item. Like, \"sort by this thing about each item.\""
   ]
  },
  {
   "cell_type": "code",
   "execution_count": 19,
   "id": "2cc06e32",
   "metadata": {},
   "outputs": [
    {
     "name": "stdout",
     "output_type": "stream",
     "text": [
      "['Alice', 'Charlie', 'bob']\n",
      "['Alice', 'bob', 'Charlie']\n"
     ]
    }
   ],
   "source": [
    "names = [\"Alice\", \"bob\", \"Charlie\"]\n",
    "\n",
    "sorted(names)  \n",
    "print(sorted(names)  )\n",
    "# → ['Alice', 'Charlie', 'bob']  ← uppercase before lowercase\n",
    "\n",
    "sorted(names, key=str.lower)  \n",
    "# → ['Alice', 'bob', 'Charlie']\n",
    "print(sorted(names, key=str.lower) )"
   ]
  },
  {
   "cell_type": "markdown",
   "id": "def574cd",
   "metadata": {},
   "source": [
    "So `key=str.lower`  \n",
    "says: \"Hey Python, sort by each name converted to lowercase.\"\n",
    "\n",
    "So back to task\n",
    "Let's take the ternary \n",
    "```python\n",
    "0 if x == 42 or x%2 else x\n",
    "```\n",
    "it will give as `0` in case\n",
    "- x == 42\n",
    "- or x%2 = 1(1 is True)\n",
    "\n",
    "Otherwise `x`\n",
    "\n",
    "We convert list to `0` and `x`\n",
    "```python\n",
    "[8,0,2,0,0]\n",
    "#8 3 2 42 5\n",
    "```\n",
    "sort them \n",
    "```python\n",
    "[0,0,0,2,8]\n",
    "#3 42 5 2 8\n",
    "```\n",
    "and `get them back` \n",
    "> [3,42,5,2,8]"
   ]
  },
  {
   "cell_type": "markdown",
   "id": "bc5b0073",
   "metadata": {},
   "source": [
    "## Question 5\n",
    "### ❓ Question  \n",
    "\n",
    "Definujte třídu RegexFull Match, podtřídu str, která umožní test na rovnost s regulárním výrazem, např. RegexFullMatch ('hello') 'h. *o' vrátí True (5 body).\n"
   ]
  },
  {
   "cell_type": "code",
   "execution_count": null,
   "id": "950b057e",
   "metadata": {},
   "outputs": [
    {
     "name": "stdout",
     "output_type": "stream",
     "text": [
      "True\n",
      "False\n"
     ]
    }
   ],
   "source": [
    "import re\n",
    "\n",
    "class RegexFullMatch(str):\n",
    "    def __eq__(self, pattern):\n",
    "        return re.fullmatch(pattern, self) is not None\n",
    "print(RegexFullMatch('hello') == 'h.*o')   # → True\n",
    "print(RegexFullMatch('hello') == 'h.*a')   # → False\n"
   ]
  },
  {
   "cell_type": "markdown",
   "id": "afedb5ba",
   "metadata": {},
   "source": [
    "### 🤯 Explanation\n",
    "\n",
    "We need to make a custom class, RegexFullMatch, that:\n",
    "\n",
    "1. Looks like a string (because it's a subclass of str).\n",
    "\n",
    "2. Can be compared to a regex pattern and check if it fully matches.\n",
    "\n",
    "So we do \n",
    "- Subclass str: This allows RegexFullMatch to act like a string.  \n",
    "  \n",
    "syntax: \n",
    "`Class name(name_of_subclass):`\n",
    "\n",
    "- Override `__eq__()`: This special method makes the comparison work (== operator).\n",
    "\n",
    "- Use `re.fullmatch()`: This function checks if the whole string matches the pattern.\n",
    "\n",
    "\n",
    "BUT! We need to return either `True` or `False`\n",
    "\n",
    "So either we convert the return valeu to `bool`\n",
    "\n",
    "Or we check if `re.fullmatch()` return as something\n",
    "```python\n",
    "is not None\n",
    "```"
   ]
  },
  {
   "cell_type": "markdown",
   "id": "13fcf589",
   "metadata": {},
   "source": [
    "## Question 6\n",
    "### ❓ Question  \n",
    "\n",
    "Volání \n",
    "```python\n",
    "import re; \n",
    "print(re.sub(r'cat', 'dog', 'A Cat', re.IGNORECASE))\n",
    "```\n",
    "nezafunguje - vypisuje A Cat.  \n",
    "Příkaz help (re.sub) vypíše: \n",
    "```python\n",
    "sub(pattern, repl, string, count=0, flags=0).\n",
    "```\n",
    "Proveďte minimální změnu výše uvedeného volání tak, aby vypisovalo A dog (3 body).  "
   ]
  },
  {
   "cell_type": "code",
   "execution_count": null,
   "id": "fbb3fc89",
   "metadata": {},
   "outputs": [
    {
     "name": "stdout",
     "output_type": "stream",
     "text": [
      "A dog\n"
     ]
    }
   ],
   "source": [
    "\n",
    "print(re.sub (r'cat', 'dog', 'A Cat', flags=re.IGNORECASE))"
   ]
  },
  {
   "cell_type": "markdown",
   "id": "a1bc74e8",
   "metadata": {},
   "source": [
    "### 🤯 Explanation\n",
    "\n",
    "Well, help message gets prints us\n",
    "`sub(pattern, repl, string, count=0, flags=0).`\n",
    "\n",
    "flags...are not set, just set them\n",
    "\n",
    "instead of  \n",
    "`re.IGNORECASE`  \n",
    "we write  \n",
    "`flags=re.IGNORECASE`\n"
   ]
  },
  {
   "cell_type": "markdown",
   "id": "3063a16c",
   "metadata": {},
   "source": [
    "## Question 7\n",
    "### ❓ Question  \n",
    "\n",
    "Definujte třídu AnagramStr, podtřídu str, která bude místo zadaného řetězce vnitřně reprezentovat jeho uspořádané znaky, tedy např. \n",
    "```python\n",
    "AnagramStr('sister') == AnagramStr('sister')\n",
    "```\n",
    "bude `True`  \n",
    "```python\n",
    "print(AnagramStr('sister'))\n",
    "```\n",
    "vypíše: `eirsst` \n",
    "\n"
   ]
  },
  {
   "cell_type": "code",
   "execution_count": 38,
   "id": "213bf9e5",
   "metadata": {},
   "outputs": [
    {
     "name": "stdout",
     "output_type": "stream",
     "text": [
      "eirsst\n",
      "eirsst\n",
      "True\n"
     ]
    }
   ],
   "source": [
    "class AnagramStr(str):\n",
    "    def __new__(cls, original):\n",
    "        # Sort the characters and return as a new string\n",
    "        sorted_str = ''.join(sorted(original))\n",
    "        return super().__new__(cls, sorted_str)\n",
    "\n",
    "    def __eq__(self, other):\n",
    "        # Make sure we compare sorted strings\n",
    "        return str(self) == str(AnagramStr(other))\n",
    "\n",
    "a = AnagramStr(\"sister\")\n",
    "b = AnagramStr(\"resist\")\n",
    "\n",
    "print(a)         # → eirsst\n",
    "print(b)         # → eirsst\n",
    "print(a == b)    # → True\n"
   ]
  },
  {
   "cell_type": "markdown",
   "id": "dde40997",
   "metadata": {},
   "source": [
    "### 🤯 Explanation\n",
    "Normally in Python, you’d use __init__() to set up stuff in a class.  \n",
    "BUT — `str`, `int`, `tuple`, and other immutable types (stuff that can’t be changed after it's created) are a bit special.\n",
    "\n",
    "Once they’re created... you can’t change them.\n",
    "\n",
    "So, with immutable types:\n",
    "\n",
    "`__init__()` **runs after the object is already made**  \n",
    "...which is too late to change the value of the string.\n",
    "\n",
    "That’s where `__new__()` comes in\n",
    "- `__new__()` is called before the object is created.\n",
    "- It gives us a chance to say:\n",
    "  - “Yo, make this string, but here’s what its value should be.”\n",
    "\n",
    "So in `AnagramStr`, we need to sort the string `before it's even born`, like: \n",
    "```python\n",
    "sorted_str = ''.join(sorted(original))\n",
    "```\n",
    "And then tell Python:\n",
    "```python\n",
    "return super().__new__(cls, sorted_str)\n",
    "```\n",
    "What is cls?  \n",
    "cls is just like self…  \n",
    "...but it’s used in `__new__()` (or class methods) instead of instance methods.\n",
    "\n",
    "| In `__init__()`                         | In `__new__()` or classmethod   |\n",
    "| --------------------------------------- | ------------------------------- |\n",
    "| `self`                                  | `cls`                           |\n",
    "| Refers to: the **object** being created | Refers to: the **class** itself |\n",
    "\n",
    "Why do we need cls in `__new__()`?\n",
    "\n",
    "\n",
    "Because when we do:\n",
    "\n",
    "```python\n",
    "return super().__new__(cls, something)\n",
    "```\n",
    "We’re telling Python:\n",
    "- \"Hey, make a new instance of this class (cls) using this data (something)\"\n",
    "\n",
    "if you're creating a subclass of `str` like `AnagramStr`, you want to make sure you're returning an instance of `AnagramStr`, not just a plain ol' string."
   ]
  },
  {
   "cell_type": "markdown",
   "id": "b2a264a5",
   "metadata": {},
   "source": [
    "## Question 8\n",
    "### ❓ Question  \n",
    "(6 bodů)\n",
    "Definujte generátorovou funkci `running_avg`, která dostane jako parametr iterovatelný objekt, první hodnotu bude ignorovat a pro další bude vracet klouzavý průměr (vždy průměr všech předchozích čísel), tedy například \n",
    "```python\n",
    "list(running_avg (['age', 12, 20,1]))\n",
    "```\n",
    ">[12.0, 16.0, 11.0]. \n"
   ]
  },
  {
   "cell_type": "code",
   "execution_count": 31,
   "id": "368dcecd",
   "metadata": {},
   "outputs": [
    {
     "name": "stdout",
     "output_type": "stream",
     "text": [
      "[12.0, 16.0, 11.0]\n"
     ]
    }
   ],
   "source": [
    "def running_avg(obj):\n",
    "    for i in range(1, len(obj)):\n",
    "        yield sum(obj[1:i + 1]) / i\n",
    "print(list(running_avg([\"age\", 12, 20, 1]))) # [12.0, 16.0, 11.0]"
   ]
  },
  {
   "cell_type": "markdown",
   "id": "7821762d",
   "metadata": {},
   "source": [
    "### 🤯 Explanation\n",
    "\n",
    "```python\n",
    "list(running_avg(['age', 12, 20, 1]))\n",
    "# → [12.0, 16.0, 11.0]\n",
    "\n",
    "# Why?\n",
    "# Step 1: skip 'age'\n",
    "# Step 2: take 12 → avg = 12.0\n",
    "# Step 3: 12 + 20 = 32 → 32 / 2 = 16.0\n",
    "# Step 4: 12 + 20 + 1 = 33 → 33 / 3 = 11.0\n",
    "```\n"
   ]
  },
  {
   "cell_type": "markdown",
   "id": "c9006fec",
   "metadata": {},
   "source": [
    "Weeeell, nothing to explain\n",
    "\n",
    "just don't use `return`, after `return` function ends... So we use `yield`. It kinda `pauses` the func"
   ]
  },
  {
   "cell_type": "markdown",
   "id": "1b9befe0",
   "metadata": {},
   "source": [
    "## Question 9\n",
    "### ❓ Question  \n",
    "\n",
    "Definujte dekorátor `retry` s parametry `num_retries`, `exception_to_check`, `sleep_time`, který v případě, že dekorovaná funkce vrátí výjimku danou druhým parametrem, počká (pomocí `time.sleep`) definovaný počet sekund a potom zkusí dekorovanou funkci spustit znovu (maximální počet pokusů je dán 1. parametrem). (6 bodů)\n"
   ]
  },
  {
   "cell_type": "code",
   "execution_count": 42,
   "id": "77b5ac45",
   "metadata": {},
   "outputs": [
    {
     "name": "stdout",
     "output_type": "stream",
     "text": [
      "Trying...\n"
     ]
    }
   ],
   "source": [
    "import time\n",
    "def retry(num_retries, exception_to_check, sleep_time):\n",
    "    def decorator(func):\n",
    "        def wrapper(*args, **kwargs):\n",
    "            for _ in range(num_retries):\n",
    "                try:\n",
    "                    return func(*args, **kwargs)\n",
    "                except exception_to_check:\n",
    "                    time.sleep(sleep_time)\n",
    "        return wrapper\n",
    "    return decorator\n",
    "\n",
    "# Example\n",
    "@retry(3, ValueError, 1)\n",
    "def test():\n",
    "    print(\"Trying...\")\n",
    "\n",
    "test()"
   ]
  },
  {
   "cell_type": "markdown",
   "id": "133ef097",
   "metadata": {},
   "source": [
    "### 🤯 Explanation\n",
    "\n",
    "Well decorators, it's kinda hard.\n",
    "\n",
    "✅ 1. A basic decorator (no arguments):\n",
    "```python\n",
    "def decorator_name(func):\n",
    "    def wrapper():\n",
    "        ...\n",
    "    return wrapper\n",
    "```\n",
    "\n",
    "🔥 2. A decorator with arguments:\n",
    "```python\n",
    "def decorator_name(num_retries, exception_to_check, sleep_time):  # takes config\n",
    "    def decorator(func):                                 # wraps the function\n",
    "        def wrapper(*args, **kwargs):                    # adds retry logic\n",
    "            ...\n",
    "        return wrapper\n",
    "    return decorator\n",
    "```\n",
    "\n",
    "```python\n",
    "def retry(num_retries, exception_to_check, sleep_time):\n",
    "```\n",
    "- We pass arguments to the decorator (`2`, `ValueError`, `2`) to configure it.\n",
    "- So instead of hardcoding values, you can change them `dynamically` when you use it.\n",
    "\n",
    "`@retry(2, ValueError, 2)`\n",
    "\n",
    "```python\n",
    "def decorator(func)\n",
    "```\n",
    "- This wraps the function `(func)` we want to decorate. So when you use `@retry()`, you're telling Python to `apply that retry logic to the decorated function.`\n",
    "```python\n",
    "def wrapper(*args, **kwargs)\n",
    "```\n",
    "`*args` and `**kwargs` let the `wrapper` accept any arguments that the decorated function takes. \n",
    "- `*args` catches positional arguments (like 1, 2, 3)\n",
    "- `**kwargs` catches keyword arguments (like a=10, b=20)\n",
    "  \n",
    "*in other words it takes all args from func*\n",
    "\n",
    "The `try` and `except` block is explained at [Question 11](#question-11) \n"
   ]
  },
  {
   "cell_type": "markdown",
   "id": "793af60e",
   "metadata": {},
   "source": [
    "## Question 10\n",
    "### ❓ Question  \n",
    "Co vypíše následující kód v Pythonu a proč? (5 bodů).\n",
    "```python\n",
    "s = {'Python':1991, 'Perl':1987, 'Ruby':1995}; print(''.join(c[1] for c in sorted (s, key=s.get)))\n",
    "```\n",
    "\n",
    "\n"
   ]
  },
  {
   "cell_type": "code",
   "execution_count": 43,
   "id": "0806905f",
   "metadata": {},
   "outputs": [
    {
     "name": "stdout",
     "output_type": "stream",
     "text": [
      "eyu\n"
     ]
    }
   ],
   "source": [
    "s = {'Python':1991, 'Perl':1987, 'Ruby':1995}; print(''.join(c[1] for c in sorted (s, key=s.get)))"
   ]
  },
  {
   "cell_type": "markdown",
   "id": "e039a68e",
   "metadata": {},
   "source": [
    "### 🤯 Explanation\n",
    "\n",
    " **`s` is a dictionary**:\n",
    "\n",
    "   ```python\n",
    "   {\n",
    "     'Python': 1991,\n",
    "     'Perl': 1987,\n",
    "     'Ruby': 1995\n",
    "   }\n",
    "   ```\n",
    "\n",
    "**`sorted(s, key=s.get)`**\n",
    "   This sorts the **keys of the dict**, but using the **values** as the sorting key.\n",
    "\n",
    "   * `s.get('Python')` → 1991\n",
    "   * `s.get('Perl')` → 1987\n",
    "   * `s.get('Ruby')` → 1995\n",
    "\n",
    "   So the sorted order of keys will be:\n",
    "\n",
    "   ```python\n",
    "   ['Perl', 'Python', 'Ruby']\n",
    "   ```\n",
    "\n",
    "**`c[1] for c in ...`**\n",
    "   We’re grabbing the **second character** (index 1) of each word:\n",
    "\n",
    "   * `'Perl'[1]` → `'e'`\n",
    "   * `'Python'[1]` → `'y'`\n",
    "   * `'Ruby'[1]` → `'u'`\n",
    "\n",
    "**`''.join(...)`**\n",
    "   This just joins the letters into a single string:\n",
    "\n",
    "   ```python\n",
    "   'e' + 'y' + 'u' → \"eyu\"\n",
    "   ```\n",
    "\n",
    "\n",
    "\n",
    "\n"
   ]
  },
  {
   "cell_type": "markdown",
   "id": "18b439b6",
   "metadata": {},
   "source": [
    "## Question 11\n",
    "### ❓ Question  \n",
    "\n",
    "Co vypíše následující kód v Pythonu a proč? (5 bodů).\n",
    "```python\n",
    "try:\n",
    "    for i in range(3):\n",
    "        try:\n",
    "            1 / 0\n",
    "            print('Divided by zero')\n",
    "        except ZeroDivisionError:\n",
    "            print('Inner ZeroDivisionError')\n",
    "            raise KeyError('Zero')\n",
    "        except KeyError:\n",
    "            print('Inner KeyError')\n",
    "        finally:\n",
    "            print('Finally block')\n",
    "            break\n",
    "except ZeroDivisionError:\n",
    "    print('Outer ZeroDivisionError')\n",
    "```"
   ]
  },
  {
   "cell_type": "code",
   "execution_count": 44,
   "id": "3b42ce98",
   "metadata": {},
   "outputs": [
    {
     "name": "stdout",
     "output_type": "stream",
     "text": [
      "Inner ZeroDivisionError\n",
      "Finally block\n"
     ]
    }
   ],
   "source": [
    "try:\n",
    "    for i in range(3):\n",
    "        try:\n",
    "            1 / 0\n",
    "            print('Divided by zero')\n",
    "        except ZeroDivisionError:\n",
    "            print('Inner ZeroDivisionError')\n",
    "            raise KeyError('Zero')\n",
    "        except KeyError:\n",
    "            print('Inner KeyError')\n",
    "        finally:\n",
    "            print('Finally block')\n",
    "            break\n",
    "except ZeroDivisionError:\n",
    "    print('Outer ZeroDivisionError')"
   ]
  },
  {
   "cell_type": "markdown",
   "id": "a5cc42e7",
   "metadata": {},
   "source": [
    "### 🤯 Explanation\n",
    "\n",
    "`try, expect, finally`\n",
    "\n",
    "Let's go\n",
    "\n",
    "```python\n",
    "try:\n",
    "    # risky code here\n",
    "except SomeError:\n",
    "    # if that code fails, handle it\n",
    "finally:\n",
    "    # always runs no matter what\n",
    "```\n",
    "\n",
    "Why use this?\n",
    "\n",
    "To **catch errors** (aka exceptions) and **stop your program from crashing** like a noob 💀\n",
    "It lets you say:\n",
    "\n",
    "> \"Yo Python, try this. But if it breaks, don't explode — do this instead.\"\n",
    "\n",
    "Example\n",
    "\n",
    "```python\n",
    "try:\n",
    "    x = 10 / 0\n",
    "except ZeroDivisionError:\n",
    "    print(\"Can't divide by 0 bro 😅\")\n",
    "finally:\n",
    "    print(\"This always runs 💯\")\n",
    "```\n",
    "Output:\n",
    "\n",
    "```\n",
    "Can't divide by 0 bro 😅\n",
    "This always runs 💯\n",
    "```\n",
    "\n",
    "\n",
    "Explanation Like You’re 5:\n",
    "\n",
    "| Part      | What it does                                                            |\n",
    "| --------- | ----------------------------------------------------------------------- |\n",
    "| `try`     | Python runs this code and **hopes nothing breaks**                      |\n",
    "| `except`  | If an error happens in `try`, this block **jumps in to save the day**   |\n",
    "| `finally` | No matter what happened (error or not), this **always runs at the end** |\n",
    "\n",
    "You can also catch **multiple errors**:\n",
    "\n",
    "```python\n",
    "try:\n",
    "    ...\n",
    "except ValueError:\n",
    "    print(\"Not a number\")\n",
    "except ZeroDivisionError:\n",
    "    print(\"Bruh can't divide by 0\")\n",
    "finally:\n",
    "    print(\"No matter what, I run 🔁\")\n",
    "```\n",
    "\n",
    "Brooo 🔥 your breakdown is **solid** and easy to follow — real student-friendly 💪 but I’ll help you **tighten it up** a bit and make it smoother (and fix one tiny logic detail 😉).\n",
    "\n",
    "---\n",
    "The code in our `task` starts with this:\n",
    "\n",
    "```python\n",
    "try:\n",
    "    ...\n",
    "except ZeroDivisionError:\n",
    "    print('Outer ZeroDivisionError')\n",
    "```\n",
    "\n",
    "So the **outer try** is ready to catch a `ZeroDivisionError`.\n",
    "\n",
    "\n",
    "Then inside that block, we have a `for` loop:\n",
    "\n",
    "```python\n",
    "for i in range(3):\n",
    "    try:\n",
    "        1 / 0\n",
    "        print('Divided by zero')\n",
    "    except ZeroDivisionError:\n",
    "        print('Inner ZeroDivisionError')\n",
    "        raise KeyError('Zero')\n",
    "    except KeyError:\n",
    "        print('Inner KeyError')\n",
    "    finally:\n",
    "        print('Finally block')\n",
    "        break\n",
    "```\n",
    "\n",
    "Step by step\n",
    "\n",
    "* We enter the loop → `i = 0`\n",
    "\n",
    "* `1 / 0` is executed → BOOM 💥 `ZeroDivisionError` happens\n",
    "\n",
    "* Python jumps **straight into** this:\n",
    "\n",
    "  ```python\n",
    "  except ZeroDivisionError:\n",
    "      print('Inner ZeroDivisionError')\n",
    "      raise KeyError('Zero')\n",
    "  ```\n",
    "\n",
    "* It prints:\n",
    "\n",
    "  > Inner ZeroDivisionError\n",
    "\n",
    "* Then it **raises a new error**: `KeyError('Zero')`\n",
    "\n",
    "* Now, ⚠️ **that new error is NOT handled** inside the same `try`, so it escapes upward\n",
    "\n",
    "\n",
    "But before escaping:\n",
    "\n",
    "We hit the `finally` block:\n",
    "\n",
    "```python\n",
    "finally:\n",
    "    print('Finally block')\n",
    "    break\n",
    "```\n",
    "\n",
    "* It prints:\n",
    "\n",
    "  > Finally block\n",
    "* Then it `break`s the loop\n",
    "\n",
    "\n",
    "❗Important Thing:\n",
    "\n",
    "Even though we raised a `KeyError`, the `finally` still runs ✅\n",
    "**BUT**:\n",
    "`break` executes **before** the error has a chance to escape and crash the program. So the program **doesn’t crash**, and the outer `except` never runs, because it's waiting for a `ZeroDivisionError`, not a `KeyError`.\n"
   ]
  },
  {
   "cell_type": "markdown",
   "id": "715313a2",
   "metadata": {},
   "source": [
    "----\n",
    "\n",
    "# Sources\n",
    "Special thanks to\n",
    "- xtesar43_vutbr_cz(fitchats)\n",
    "- ChatGPT\n",
    "\n",
    "---\n",
    "\n",
    "📝 *Last updated: [3:26 PM 5/11/2025]*  \n",
    "📚 Keep learning, future python and scripts master! 💻🔥\n",
    "\n"
   ]
  }
 ],
 "metadata": {
  "kernelspec": {
   "display_name": "Python 3",
   "language": "python",
   "name": "python3"
  },
  "language_info": {
   "codemirror_mode": {
    "name": "ipython",
    "version": 3
   },
   "file_extension": ".py",
   "mimetype": "text/x-python",
   "name": "python",
   "nbconvert_exporter": "python",
   "pygments_lexer": "ipython3",
   "version": "3.12.6"
  }
 },
 "nbformat": 4,
 "nbformat_minor": 5
}
